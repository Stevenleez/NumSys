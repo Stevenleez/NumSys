{
 "cells": [
  {
   "cell_type": "markdown",
   "metadata": {},
   "source": [
    "Week 11 - F\n",
    "Steven Axel Leenardi (00000073786)"
   ]
  },
  {
   "cell_type": "code",
   "execution_count": 16,
   "metadata": {},
   "outputs": [
    {
     "name": "stdout",
     "output_type": "stream",
     "text": [
      "0.625\n",
      "0.375\n",
      "0.3333333333333333\n"
     ]
    },
    {
     "name": "stderr",
     "output_type": "stream",
     "text": [
      "C:\\Users\\Legion\\AppData\\Local\\Temp\\ipykernel_10604\\1342135615.py:15: DeprecationWarning: 'scipy.integrate.trapz' is deprecated in favour of 'scipy.integrate.trapezoid' and will be removed in SciPy 1.14.0\n",
      "  I_trap = int.trapz(f(x), x)\n",
      "C:\\Users\\Legion\\AppData\\Local\\Temp\\ipykernel_10604\\1342135615.py:21: DeprecationWarning: 'scipy.integrate.simps' is deprecated in favour of 'scipy.integrate.simpson' and will be removed in SciPy 1.14.0\n",
      "  I_simp = int.simps(f(x), x)\n"
     ]
    }
   ],
   "source": [
    "import numpy as np\n",
    "import scipy.integrate as int\n",
    "\n",
    "def my_num_int(f, a, b, n, option):\n",
    "    h = (b - a)/(n - 1)\n",
    "    x = np.linspace(a, b, n)\n",
    "    \n",
    "    match option:\n",
    "        case 'rect':\n",
    "            I_riemannR = h * sum(f(x[1:]))\n",
    "            print(I_riemannR)\n",
    "            \n",
    "        case 'trap':\n",
    "            # I_trap = (h / 2) * (f(x[0]) + 2 * np.sum(f(x[1:n-1])) + f(x[n-1]))\n",
    "            I_trap = int.trapz(f(x), x)\n",
    "            print(I_trap)\n",
    "            \n",
    "        case 'simp':\n",
    "            # I_simp = (h / 3) * (f(x[0]) + 2 * np.sum(f(x[2:n-2:2])) + \\\n",
    "                # 4 * np.sum(f(x[1:n-1:2])) + f(x[n-1]))\n",
    "            I_simp = int.simps(f(x), x)\n",
    "            print(I_simp)\n",
    "            \n",
    "\n",
    "\n",
    "# Test case\n",
    "f = lambda x: x**2\n",
    "my_num_int(f, 0, 1, 3, 'rect')\n",
    "my_num_int(f, 0, 1, 3, 'trap')\n",
    "my_num_int(f, 0, 1, 3, 'simp')"
   ]
  }
 ],
 "metadata": {
  "kernelspec": {
   "display_name": "base",
   "language": "python",
   "name": "python3"
  },
  "language_info": {
   "codemirror_mode": {
    "name": "ipython",
    "version": 3
   },
   "file_extension": ".py",
   "mimetype": "text/x-python",
   "name": "python",
   "nbconvert_exporter": "python",
   "pygments_lexer": "ipython3",
   "version": "3.11.7"
  }
 },
 "nbformat": 4,
 "nbformat_minor": 2
}

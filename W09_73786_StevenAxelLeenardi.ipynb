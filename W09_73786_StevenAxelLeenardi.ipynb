{
 "cells": [
  {
   "cell_type": "markdown",
   "metadata": {},
   "source": [
    "Week 9 - F\n",
    "Steven Axel Leenardi (00000073786)"
   ]
  },
  {
   "cell_type": "code",
   "execution_count": 35,
   "metadata": {},
   "outputs": [
    {
     "name": "stdout",
     "output_type": "stream",
     "text": [
      "estimate =  2.23606797749979\n",
      "sqrt(2)  =  2.23606797749979\n"
     ]
    }
   ],
   "source": [
    "import numpy as np\n",
    "\n",
    "def my_nth_root(x, n, tol):\n",
    "    y = x\n",
    "    \n",
    "    while True:\n",
    "        # Function formula and its derivative\n",
    "        f = y ** n - x\n",
    "        f_prime = n * (y ** (n-1))\n",
    "        \n",
    "        # Newton-Raphson\n",
    "        y -= f/f_prime\n",
    "        \n",
    "        # Error checking\n",
    "        if abs(f) < tol:\n",
    "            break\n",
    "        \n",
    "    return y\n",
    "\n",
    "# Test Case\n",
    "estimate = my_nth_root(5, 2, 1e-6)\n",
    "print(\"estimate = \", estimate)\n",
    "print(\"sqrt(2)  = \", np.sqrt(5))"
   ]
  }
 ],
 "metadata": {
  "kernelspec": {
   "display_name": "base",
   "language": "python",
   "name": "python3"
  },
  "language_info": {
   "codemirror_mode": {
    "name": "ipython",
    "version": 3
   },
   "file_extension": ".py",
   "mimetype": "text/x-python",
   "name": "python",
   "nbconvert_exporter": "python",
   "pygments_lexer": "ipython3",
   "version": "3.11.7"
  }
 },
 "nbformat": 4,
 "nbformat_minor": 2
}
